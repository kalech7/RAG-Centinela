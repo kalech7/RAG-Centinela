{
 "cells": [
  {
   "cell_type": "code",
   "execution_count": 4,
   "id": "406ac341",
   "metadata": {},
   "outputs": [],
   "source": [
    "from neo4j import GraphDatabase\n",
    "import pandas as pd\n",
    "\n",
    "# Configura tus credenciales y URL de conexión\n",
    "URI = \"bolt://localhost:7687\" \n",
    "USER = \"neo4j\"\n",
    "PASSWORD = \"password\"\n",
    "\n",
    "# Crear driver\n",
    "driver = GraphDatabase.driver(URI, auth=(USER, PASSWORD))"
   ]
  },
  {
   "cell_type": "code",
   "execution_count": 11,
   "id": "43a54a81",
   "metadata": {},
   "outputs": [
    {
     "name": "stdout",
     "output_type": "stream",
     "text": [
      "['doi', 'author_count', 'publication_date', 'abstract', 'title', 'scopus_id', 'neo4jImportId', 'affiliation_count', 'pk', 'name', 'country', 'city', 'auth_name', 'citation_count', 'initials', 'current_affiliation', 'first_name', 'last_name', 'updated', 'cursor', 'next_url']\n"
     ]
    }
   ],
   "source": [
    "node_properties_query = \"\"\"\n",
    "MATCH (n)\n",
    "UNWIND keys(n) AS prop\n",
    "RETURN DISTINCT prop AS property_name\n",
    "\"\"\"\n",
    "\n",
    "with driver.session() as session:\n",
    "    result = session.run(node_properties_query)\n",
    "    columns = [record[\"property_name\"] for record in result]\n",
    "\n",
    "print(columns)\n"
   ]
  },
  {
   "cell_type": "code",
   "execution_count": 5,
   "id": "df91f8f1",
   "metadata": {},
   "outputs": [
    {
     "name": "stdout",
     "output_type": "stream",
     "text": [
      "✅ Exportación completada: articles_scopus.csv\n"
     ]
    }
   ],
   "source": [
    "def export_articles_to_csv():\n",
    "    query = \"\"\"\n",
    "    MATCH (a)\n",
    "    WHERE a.scopus_id IS NOT NULL\n",
    "      AND a.title IS NOT NULL\n",
    "      AND a.abstract IS NOT NULL\n",
    "    RETURN\n",
    "      a.scopus_id as scopus_id,\n",
    "      a.title as title,\n",
    "      a.abstract as abstract\n",
    "    \"\"\"\n",
    "\n",
    "    # Ejecutar la consulta dentro de una sesión\n",
    "    with driver.session() as session:\n",
    "        result = session.run(query)\n",
    "        df = pd.DataFrame([\n",
    "            {\n",
    "                'scopus_id': record['scopus_id'],\n",
    "                'title': record['title'],\n",
    "                'abstract': record['abstract']\n",
    "            }\n",
    "            for record in result\n",
    "        ])\n",
    "    \n",
    "    # Guardar en CSV\n",
    "    df.to_csv(\"articles_scopus.csv\", index=False, encoding=\"utf-8\")\n",
    "    print(\"✅ Exportación completada: articles_scopus.csv\")\n",
    "\n",
    "if __name__ == \"__main__\":\n",
    "    export_articles_to_csv()\n"
   ]
  }
 ],
 "metadata": {
  "kernelspec": {
   "display_name": "Python 3",
   "language": "python",
   "name": "python3"
  },
  "language_info": {
   "codemirror_mode": {
    "name": "ipython",
    "version": 3
   },
   "file_extension": ".py",
   "mimetype": "text/x-python",
   "name": "python",
   "nbconvert_exporter": "python",
   "pygments_lexer": "ipython3",
   "version": "3.13.7"
  }
 },
 "nbformat": 4,
 "nbformat_minor": 5
}
